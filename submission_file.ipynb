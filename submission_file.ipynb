{
 "cells": [
  {
   "cell_type": "code",
   "execution_count": 2,
   "metadata": {},
   "outputs": [],
   "source": [
    "import pandas as pd\n",
    "import numpy as np\n",
    "import matplotlib.pyplot as plt\n",
    "from sklearn.svm import SVR\n",
    "from sklearn.preprocessing import StandardScaler\n",
    "from sklearn.ensemble import RandomForestRegressor\n",
    "from sklearn.metrics import mean_squared_error \n",
    "from sklearn.linear_model import LinearRegression\n",
    "from sklearn.preprocessing import PolynomialFeatures"
   ]
  },
  {
   "cell_type": "code",
   "execution_count": 3,
   "metadata": {},
   "outputs": [],
   "source": [
    "train=pd.read_csv('train.csv')\n",
    "test=pd.read_csv('test.csv')"
   ]
  },
  {
   "cell_type": "code",
   "execution_count": 4,
   "metadata": {},
   "outputs": [
    {
     "data": {
      "text/html": [
       "<div>\n",
       "<style scoped>\n",
       "    .dataframe tbody tr th:only-of-type {\n",
       "        vertical-align: middle;\n",
       "    }\n",
       "\n",
       "    .dataframe tbody tr th {\n",
       "        vertical-align: top;\n",
       "    }\n",
       "\n",
       "    .dataframe thead th {\n",
       "        text-align: right;\n",
       "    }\n",
       "</style>\n",
       "<table border=\"1\" class=\"dataframe\">\n",
       "  <thead>\n",
       "    <tr style=\"text-align: right;\">\n",
       "      <th></th>\n",
       "      <th>Unnamed: 0</th>\n",
       "      <th>index</th>\n",
       "      <th>id</th>\n",
       "      <th>theta1</th>\n",
       "      <th>theta2</th>\n",
       "      <th>theta3</th>\n",
       "      <th>theta4</th>\n",
       "      <th>theta5</th>\n",
       "      <th>theta6</th>\n",
       "      <th>thetad1</th>\n",
       "      <th>...</th>\n",
       "      <th>da2</th>\n",
       "      <th>da3</th>\n",
       "      <th>da4</th>\n",
       "      <th>da5</th>\n",
       "      <th>db1</th>\n",
       "      <th>db2</th>\n",
       "      <th>db3</th>\n",
       "      <th>db4</th>\n",
       "      <th>db5</th>\n",
       "      <th>target</th>\n",
       "    </tr>\n",
       "  </thead>\n",
       "  <tbody>\n",
       "    <tr>\n",
       "      <th>0</th>\n",
       "      <td>0</td>\n",
       "      <td>6633</td>\n",
       "      <td>6633</td>\n",
       "      <td>1.258655</td>\n",
       "      <td>-0.929410</td>\n",
       "      <td>-0.050415</td>\n",
       "      <td>1.607280</td>\n",
       "      <td>-1.666597</td>\n",
       "      <td>-0.562623</td>\n",
       "      <td>-2.119564</td>\n",
       "      <td>...</td>\n",
       "      <td>1.900982</td>\n",
       "      <td>2.847008</td>\n",
       "      <td>1.694073</td>\n",
       "      <td>2.655953</td>\n",
       "      <td>2.560639</td>\n",
       "      <td>0.539491</td>\n",
       "      <td>1.198796</td>\n",
       "      <td>1.102964</td>\n",
       "      <td>2.200707</td>\n",
       "      <td>-0.260065</td>\n",
       "    </tr>\n",
       "    <tr>\n",
       "      <th>1</th>\n",
       "      <td>1</td>\n",
       "      <td>3767</td>\n",
       "      <td>3767</td>\n",
       "      <td>-0.378386</td>\n",
       "      <td>1.898102</td>\n",
       "      <td>0.137376</td>\n",
       "      <td>-2.138864</td>\n",
       "      <td>0.376567</td>\n",
       "      <td>-0.470433</td>\n",
       "      <td>-0.128412</td>\n",
       "      <td>...</td>\n",
       "      <td>2.127900</td>\n",
       "      <td>0.941831</td>\n",
       "      <td>1.008708</td>\n",
       "      <td>2.117702</td>\n",
       "      <td>0.880092</td>\n",
       "      <td>0.536593</td>\n",
       "      <td>1.338949</td>\n",
       "      <td>1.780534</td>\n",
       "      <td>1.236617</td>\n",
       "      <td>-0.204540</td>\n",
       "    </tr>\n",
       "    <tr>\n",
       "      <th>2</th>\n",
       "      <td>2</td>\n",
       "      <td>1224</td>\n",
       "      <td>1224</td>\n",
       "      <td>-0.611485</td>\n",
       "      <td>0.900391</td>\n",
       "      <td>-0.263779</td>\n",
       "      <td>0.021346</td>\n",
       "      <td>2.097770</td>\n",
       "      <td>0.952058</td>\n",
       "      <td>0.991799</td>\n",
       "      <td>...</td>\n",
       "      <td>1.815471</td>\n",
       "      <td>0.900659</td>\n",
       "      <td>0.703724</td>\n",
       "      <td>2.219781</td>\n",
       "      <td>2.447250</td>\n",
       "      <td>1.239661</td>\n",
       "      <td>1.288070</td>\n",
       "      <td>2.462066</td>\n",
       "      <td>2.240620</td>\n",
       "      <td>0.559202</td>\n",
       "    </tr>\n",
       "    <tr>\n",
       "      <th>3</th>\n",
       "      <td>3</td>\n",
       "      <td>3273</td>\n",
       "      <td>3273</td>\n",
       "      <td>2.217917</td>\n",
       "      <td>1.709197</td>\n",
       "      <td>2.421718</td>\n",
       "      <td>0.363645</td>\n",
       "      <td>2.080355</td>\n",
       "      <td>-0.869141</td>\n",
       "      <td>2.061683</td>\n",
       "      <td>...</td>\n",
       "      <td>2.618496</td>\n",
       "      <td>2.458995</td>\n",
       "      <td>0.537412</td>\n",
       "      <td>2.602852</td>\n",
       "      <td>2.632219</td>\n",
       "      <td>0.755637</td>\n",
       "      <td>2.973980</td>\n",
       "      <td>2.851321</td>\n",
       "      <td>1.028781</td>\n",
       "      <td>-0.342738</td>\n",
       "    </tr>\n",
       "    <tr>\n",
       "      <th>4</th>\n",
       "      <td>4</td>\n",
       "      <td>4446</td>\n",
       "      <td>4446</td>\n",
       "      <td>-2.380334</td>\n",
       "      <td>-1.426494</td>\n",
       "      <td>-1.665380</td>\n",
       "      <td>-1.018660</td>\n",
       "      <td>2.080026</td>\n",
       "      <td>3.152886</td>\n",
       "      <td>0.557293</td>\n",
       "      <td>...</td>\n",
       "      <td>1.527161</td>\n",
       "      <td>1.470630</td>\n",
       "      <td>1.060353</td>\n",
       "      <td>0.446626</td>\n",
       "      <td>2.519833</td>\n",
       "      <td>1.992571</td>\n",
       "      <td>1.263569</td>\n",
       "      <td>0.810387</td>\n",
       "      <td>1.646483</td>\n",
       "      <td>-0.703350</td>\n",
       "    </tr>\n",
       "  </tbody>\n",
       "</table>\n",
       "<p>5 rows × 36 columns</p>\n",
       "</div>"
      ],
      "text/plain": [
       "   Unnamed: 0  index    id    theta1    theta2    theta3    theta4    theta5  \\\n",
       "0           0   6633  6633  1.258655 -0.929410 -0.050415  1.607280 -1.666597   \n",
       "1           1   3767  3767 -0.378386  1.898102  0.137376 -2.138864  0.376567   \n",
       "2           2   1224  1224 -0.611485  0.900391 -0.263779  0.021346  2.097770   \n",
       "3           3   3273  3273  2.217917  1.709197  2.421718  0.363645  2.080355   \n",
       "4           4   4446  4446 -2.380334 -1.426494 -1.665380 -1.018660  2.080026   \n",
       "\n",
       "     theta6   thetad1  ...       da2       da3       da4       da5       db1  \\\n",
       "0 -0.562623 -2.119564  ...  1.900982  2.847008  1.694073  2.655953  2.560639   \n",
       "1 -0.470433 -0.128412  ...  2.127900  0.941831  1.008708  2.117702  0.880092   \n",
       "2  0.952058  0.991799  ...  1.815471  0.900659  0.703724  2.219781  2.447250   \n",
       "3 -0.869141  2.061683  ...  2.618496  2.458995  0.537412  2.602852  2.632219   \n",
       "4  3.152886  0.557293  ...  1.527161  1.470630  1.060353  0.446626  2.519833   \n",
       "\n",
       "        db2       db3       db4       db5    target  \n",
       "0  0.539491  1.198796  1.102964  2.200707 -0.260065  \n",
       "1  0.536593  1.338949  1.780534  1.236617 -0.204540  \n",
       "2  1.239661  1.288070  2.462066  2.240620  0.559202  \n",
       "3  0.755637  2.973980  2.851321  1.028781 -0.342738  \n",
       "4  1.992571  1.263569  0.810387  1.646483 -0.703350  \n",
       "\n",
       "[5 rows x 36 columns]"
      ]
     },
     "execution_count": 4,
     "metadata": {},
     "output_type": "execute_result"
    }
   ],
   "source": [
    "train.head()"
   ]
  },
  {
   "cell_type": "code",
   "execution_count": 5,
   "metadata": {},
   "outputs": [
    {
     "data": {
      "text/html": [
       "<div>\n",
       "<style scoped>\n",
       "    .dataframe tbody tr th:only-of-type {\n",
       "        vertical-align: middle;\n",
       "    }\n",
       "\n",
       "    .dataframe tbody tr th {\n",
       "        vertical-align: top;\n",
       "    }\n",
       "\n",
       "    .dataframe thead th {\n",
       "        text-align: right;\n",
       "    }\n",
       "</style>\n",
       "<table border=\"1\" class=\"dataframe\">\n",
       "  <thead>\n",
       "    <tr style=\"text-align: right;\">\n",
       "      <th></th>\n",
       "      <th>Unnamed: 0</th>\n",
       "      <th>index</th>\n",
       "      <th>id</th>\n",
       "      <th>theta1</th>\n",
       "      <th>theta2</th>\n",
       "      <th>theta3</th>\n",
       "      <th>theta4</th>\n",
       "      <th>theta5</th>\n",
       "      <th>theta6</th>\n",
       "      <th>thetad1</th>\n",
       "      <th>...</th>\n",
       "      <th>da1</th>\n",
       "      <th>da2</th>\n",
       "      <th>da3</th>\n",
       "      <th>da4</th>\n",
       "      <th>da5</th>\n",
       "      <th>db1</th>\n",
       "      <th>db2</th>\n",
       "      <th>db3</th>\n",
       "      <th>db4</th>\n",
       "      <th>db5</th>\n",
       "    </tr>\n",
       "  </thead>\n",
       "  <tbody>\n",
       "    <tr>\n",
       "      <th>0</th>\n",
       "      <td>0</td>\n",
       "      <td>2133</td>\n",
       "      <td>2133</td>\n",
       "      <td>2.533249</td>\n",
       "      <td>-0.792764</td>\n",
       "      <td>-2.177767</td>\n",
       "      <td>-1.110612</td>\n",
       "      <td>-1.273932</td>\n",
       "      <td>-0.228057</td>\n",
       "      <td>-1.043535</td>\n",
       "      <td>...</td>\n",
       "      <td>1.290247</td>\n",
       "      <td>1.557358</td>\n",
       "      <td>0.561434</td>\n",
       "      <td>2.746378</td>\n",
       "      <td>2.916253</td>\n",
       "      <td>1.432392</td>\n",
       "      <td>-0.040619</td>\n",
       "      <td>2.225802</td>\n",
       "      <td>2.418217</td>\n",
       "      <td>1.705286</td>\n",
       "    </tr>\n",
       "    <tr>\n",
       "      <th>1</th>\n",
       "      <td>1</td>\n",
       "      <td>6389</td>\n",
       "      <td>6389</td>\n",
       "      <td>-1.157607</td>\n",
       "      <td>0.815686</td>\n",
       "      <td>2.410577</td>\n",
       "      <td>-0.321521</td>\n",
       "      <td>-0.579014</td>\n",
       "      <td>-1.047877</td>\n",
       "      <td>1.708049</td>\n",
       "      <td>...</td>\n",
       "      <td>1.816308</td>\n",
       "      <td>2.367484</td>\n",
       "      <td>2.088922</td>\n",
       "      <td>1.402735</td>\n",
       "      <td>1.889066</td>\n",
       "      <td>1.351893</td>\n",
       "      <td>2.437513</td>\n",
       "      <td>2.875317</td>\n",
       "      <td>2.363191</td>\n",
       "      <td>1.400312</td>\n",
       "    </tr>\n",
       "    <tr>\n",
       "      <th>2</th>\n",
       "      <td>2</td>\n",
       "      <td>4496</td>\n",
       "      <td>4496</td>\n",
       "      <td>0.817617</td>\n",
       "      <td>1.775667</td>\n",
       "      <td>-1.579402</td>\n",
       "      <td>-0.943133</td>\n",
       "      <td>0.571878</td>\n",
       "      <td>-1.158937</td>\n",
       "      <td>1.794551</td>\n",
       "      <td>...</td>\n",
       "      <td>1.401952</td>\n",
       "      <td>1.392231</td>\n",
       "      <td>0.432919</td>\n",
       "      <td>1.921923</td>\n",
       "      <td>1.573775</td>\n",
       "      <td>1.104550</td>\n",
       "      <td>1.097384</td>\n",
       "      <td>1.959356</td>\n",
       "      <td>0.114303</td>\n",
       "      <td>2.600579</td>\n",
       "    </tr>\n",
       "    <tr>\n",
       "      <th>3</th>\n",
       "      <td>3</td>\n",
       "      <td>2400</td>\n",
       "      <td>2400</td>\n",
       "      <td>1.942009</td>\n",
       "      <td>2.897571</td>\n",
       "      <td>-0.833998</td>\n",
       "      <td>-0.868103</td>\n",
       "      <td>-0.747734</td>\n",
       "      <td>2.151514</td>\n",
       "      <td>-0.450202</td>\n",
       "      <td>...</td>\n",
       "      <td>1.994579</td>\n",
       "      <td>1.729033</td>\n",
       "      <td>2.381447</td>\n",
       "      <td>2.300106</td>\n",
       "      <td>0.014986</td>\n",
       "      <td>2.641325</td>\n",
       "      <td>1.581736</td>\n",
       "      <td>0.960167</td>\n",
       "      <td>1.542038</td>\n",
       "      <td>1.231497</td>\n",
       "    </tr>\n",
       "    <tr>\n",
       "      <th>4</th>\n",
       "      <td>4</td>\n",
       "      <td>4519</td>\n",
       "      <td>4519</td>\n",
       "      <td>-0.691687</td>\n",
       "      <td>0.389034</td>\n",
       "      <td>-0.573441</td>\n",
       "      <td>-0.652371</td>\n",
       "      <td>0.645799</td>\n",
       "      <td>0.078332</td>\n",
       "      <td>-1.618586</td>\n",
       "      <td>...</td>\n",
       "      <td>1.341282</td>\n",
       "      <td>1.774178</td>\n",
       "      <td>1.969909</td>\n",
       "      <td>0.879087</td>\n",
       "      <td>1.592115</td>\n",
       "      <td>2.701025</td>\n",
       "      <td>1.652432</td>\n",
       "      <td>0.397457</td>\n",
       "      <td>1.933247</td>\n",
       "      <td>1.084829</td>\n",
       "    </tr>\n",
       "  </tbody>\n",
       "</table>\n",
       "<p>5 rows × 35 columns</p>\n",
       "</div>"
      ],
      "text/plain": [
       "   Unnamed: 0  index    id    theta1    theta2    theta3    theta4    theta5  \\\n",
       "0           0   2133  2133  2.533249 -0.792764 -2.177767 -1.110612 -1.273932   \n",
       "1           1   6389  6389 -1.157607  0.815686  2.410577 -0.321521 -0.579014   \n",
       "2           2   4496  4496  0.817617  1.775667 -1.579402 -0.943133  0.571878   \n",
       "3           3   2400  2400  1.942009  2.897571 -0.833998 -0.868103 -0.747734   \n",
       "4           4   4519  4519 -0.691687  0.389034 -0.573441 -0.652371  0.645799   \n",
       "\n",
       "     theta6   thetad1  ...       da1       da2       da3       da4       da5  \\\n",
       "0 -0.228057 -1.043535  ...  1.290247  1.557358  0.561434  2.746378  2.916253   \n",
       "1 -1.047877  1.708049  ...  1.816308  2.367484  2.088922  1.402735  1.889066   \n",
       "2 -1.158937  1.794551  ...  1.401952  1.392231  0.432919  1.921923  1.573775   \n",
       "3  2.151514 -0.450202  ...  1.994579  1.729033  2.381447  2.300106  0.014986   \n",
       "4  0.078332 -1.618586  ...  1.341282  1.774178  1.969909  0.879087  1.592115   \n",
       "\n",
       "        db1       db2       db3       db4       db5  \n",
       "0  1.432392 -0.040619  2.225802  2.418217  1.705286  \n",
       "1  1.351893  2.437513  2.875317  2.363191  1.400312  \n",
       "2  1.104550  1.097384  1.959356  0.114303  2.600579  \n",
       "3  2.641325  1.581736  0.960167  1.542038  1.231497  \n",
       "4  2.701025  1.652432  0.397457  1.933247  1.084829  \n",
       "\n",
       "[5 rows x 35 columns]"
      ]
     },
     "execution_count": 5,
     "metadata": {},
     "output_type": "execute_result"
    }
   ],
   "source": [
    "test.head()"
   ]
  },
  {
   "cell_type": "code",
   "execution_count": 6,
   "metadata": {},
   "outputs": [],
   "source": [
    "x_train=train.iloc[:,3:35]\n",
    "y_train=train.iloc[:,35]\n",
    "x_test=test.iloc[:,3:35]\n",
    "y_test=test.iloc[:,[2]]"
   ]
  },
  {
   "cell_type": "code",
   "execution_count": 7,
   "metadata": {},
   "outputs": [],
   "source": [
    "from sklearn.preprocessing import StandardScaler\n",
    "sk=StandardScaler()\n",
    "x1=sk.fit_transform(x_train)\n",
    "y1=sk.fit_transform(x_test)"
   ]
  },
  {
   "cell_type": "code",
   "execution_count": 8,
   "metadata": {},
   "outputs": [],
   "source": [
    "model_svr=SVR(kernel='rbf')\n",
    "model_rfr=RandomForestRegressor(n_estimators=55)"
   ]
  },
  {
   "cell_type": "code",
   "execution_count": 9,
   "metadata": {},
   "outputs": [
    {
     "name": "stderr",
     "output_type": "stream",
     "text": [
      "C:\\Users\\GOUTHAM\\Anaconda3\\lib\\site-packages\\sklearn\\svm\\base.py:193: FutureWarning: The default value of gamma will change from 'auto' to 'scale' in version 0.22 to account better for unscaled features. Set gamma explicitly to 'auto' or 'scale' to avoid this warning.\n",
      "  \"avoid this warning.\", FutureWarning)\n"
     ]
    },
    {
     "data": {
      "text/plain": [
       "RandomForestRegressor(bootstrap=True, criterion='mse', max_depth=None,\n",
       "                      max_features='auto', max_leaf_nodes=None,\n",
       "                      min_impurity_decrease=0.0, min_impurity_split=None,\n",
       "                      min_samples_leaf=1, min_samples_split=2,\n",
       "                      min_weight_fraction_leaf=0.0, n_estimators=55,\n",
       "                      n_jobs=None, oob_score=False, random_state=None,\n",
       "                      verbose=0, warm_start=False)"
      ]
     },
     "execution_count": 9,
     "metadata": {},
     "output_type": "execute_result"
    }
   ],
   "source": [
    "model_svr.fit(x_train,y_train)\n",
    "model_rfr.fit(x_train,y_train)"
   ]
  },
  {
   "cell_type": "code",
   "execution_count": 10,
   "metadata": {},
   "outputs": [],
   "source": [
    "check=model_svr.predict(x_train)\n",
    "check2=model_rfr.predict(x_train)"
   ]
  },
  {
   "cell_type": "code",
   "execution_count": 11,
   "metadata": {},
   "outputs": [
    {
     "data": {
      "text/plain": [
       "0.011292342828404203"
      ]
     },
     "execution_count": 11,
     "metadata": {},
     "output_type": "execute_result"
    }
   ],
   "source": [
    "mean_squared_error(y_train,check)"
   ]
  },
  {
   "cell_type": "code",
   "execution_count": 12,
   "metadata": {},
   "outputs": [
    {
     "data": {
      "text/plain": [
       "0.03631911786901845"
      ]
     },
     "execution_count": 12,
     "metadata": {},
     "output_type": "execute_result"
    }
   ],
   "source": [
    "mean_squared_error(y_train,check2)"
   ]
  },
  {
   "cell_type": "code",
   "execution_count": 13,
   "metadata": {},
   "outputs": [],
   "source": [
    "x=model_rfr.predict(x_test) "
   ]
  },
  {
   "cell_type": "code",
   "execution_count": 14,
   "metadata": {
    "scrolled": false
   },
   "outputs": [
    {
     "name": "stderr",
     "output_type": "stream",
     "text": [
      "C:\\Users\\GOUTHAM\\Anaconda3\\lib\\site-packages\\ipykernel_launcher.py:1: SettingWithCopyWarning: \n",
      "A value is trying to be set on a copy of a slice from a DataFrame.\n",
      "Try using .loc[row_indexer,col_indexer] = value instead\n",
      "\n",
      "See the caveats in the documentation: http://pandas.pydata.org/pandas-docs/stable/indexing.html#indexing-view-versus-copy\n",
      "  \"\"\"Entry point for launching an IPython kernel.\n"
     ]
    }
   ],
   "source": [
    "y_test['target']=x"
   ]
  },
  {
   "cell_type": "code",
   "execution_count": 16,
   "metadata": {},
   "outputs": [],
   "source": [
    "y_test.to_csv('finalresult_rfr.csv')"
   ]
  },
  {
   "cell_type": "code",
   "execution_count": null,
   "metadata": {},
   "outputs": [],
   "source": []
  }
 ],
 "metadata": {
  "kernelspec": {
   "display_name": "Python 3",
   "language": "python",
   "name": "python3"
  },
  "language_info": {
   "codemirror_mode": {
    "name": "ipython",
    "version": 3
   },
   "file_extension": ".py",
   "mimetype": "text/x-python",
   "name": "python",
   "nbconvert_exporter": "python",
   "pygments_lexer": "ipython3",
   "version": "3.7.3"
  }
 },
 "nbformat": 4,
 "nbformat_minor": 2
}
